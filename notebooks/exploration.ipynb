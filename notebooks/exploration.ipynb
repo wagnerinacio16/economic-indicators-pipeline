{
 "cells": [
  {
   "cell_type": "code",
   "execution_count": null,
   "id": "e1c2bf19",
   "metadata": {},
   "outputs": [],
   "source": [
    "import sys\n",
    "import os\n",
    "from pathlib import Path\n",
    "\n",
    "# Caminho absoluto para a raiz do projeto (um nível acima de notebooks)\n",
    "project_root = os.path.abspath(\"..\")\n",
    "if project_root not in sys.path:\n",
    "    sys.path.append(project_root)\n"
   ]
  },
  {
   "cell_type": "code",
   "execution_count": null,
   "id": "6b4bf27d",
   "metadata": {},
   "outputs": [],
   "source": [
    "from config.utils import *\n"
   ]
  },
  {
   "cell_type": "code",
   "execution_count": null,
   "id": "a9bcdb8a",
   "metadata": {},
   "outputs": [],
   "source": [
    "for nome_moeda, parametros in list(INDICADORES.items()):\n",
    "    if parametros['FONTE'] == 'IBGE':\n",
    "        print(nome_moeda)"
   ]
  },
  {
   "cell_type": "code",
   "execution_count": null,
   "id": "70d4b879",
   "metadata": {},
   "outputs": [],
   "source": [
    "path = os.path.join(PATHS['BRONZE_LAYER'],\"ipca_20250701.json\")"
   ]
  },
  {
   "cell_type": "code",
   "execution_count": null,
   "id": "d4911e84",
   "metadata": {},
   "outputs": [],
   "source": [
    "with open(path, \"r\", encoding=\"utf-8\") as f:\n",
    "    dados = json.load(f)\n",
    "    pd.DataFrame(dados[0]['resultados'][0]['series'][0]['serie'].items(),columns=['data','valor'])\n",
    "    \n"
   ]
  },
  {
   "cell_type": "code",
   "execution_count": null,
   "id": "cfe93c25",
   "metadata": {},
   "outputs": [],
   "source": [
    "pd.DataFrame(dados[0]['resultados'][0]['series'][0]['serie'].items(),columns=['data','valor'])"
   ]
  },
  {
   "cell_type": "code",
   "execution_count": null,
   "id": "df5cf3e0",
   "metadata": {},
   "outputs": [],
   "source": []
  },
  {
   "cell_type": "code",
   "execution_count": null,
   "id": "0a0cf3c7",
   "metadata": {},
   "outputs": [],
   "source": []
  },
  {
   "cell_type": "code",
   "execution_count": null,
   "id": "a9089a04",
   "metadata": {},
   "outputs": [],
   "source": [
    "salvar_dados_indicadores"
   ]
  },
  {
   "cell_type": "code",
   "execution_count": null,
   "id": "c98843b4",
   "metadata": {},
   "outputs": [],
   "source": [
    "for inidcador, parametros in list(INDICADORES.items()):\n",
    "   if parametros['FONTE'] == 'BACEN':\n",
    "      dados_indicador = ler_dados_indicadores(nome_indicador=inidcador, nome_fonte='BACEN')\n",
    "      salvar_dados_indicadores(dados=dados_indicador,nome_indicador=inidcador)\n",
    "    \n",
    "   else:\n",
    "     dados_indicador = ler_dados_indicadores(nome_indicador=inidcador, nome_fonte='IBGE')\n",
    "     salvar_dados_indicadores(dados=dados_indicador,nome_indicador=inidcador)"
   ]
  },
  {
   "cell_type": "code",
   "execution_count": null,
   "id": "33409f42",
   "metadata": {},
   "outputs": [],
   "source": [
    "path_silver = os.path.join(PATHS['SILVER_LAYER'],\"ipca.parquet\")\n",
    "t = pd.read_parquet(path_silver)"
   ]
  },
  {
   "cell_type": "code",
   "execution_count": null,
   "id": "e2182598",
   "metadata": {},
   "outputs": [],
   "source": [
    "t"
   ]
  },
  {
   "cell_type": "code",
   "execution_count": null,
   "id": "84c41f41",
   "metadata": {},
   "outputs": [],
   "source": [
    "t['data'] = pd.to_datetime(t['data'].astype(str), format='%Y%m').dt.strftime('%d/%m/%Y')\n",
    "\n"
   ]
  },
  {
   "cell_type": "code",
   "execution_count": null,
   "id": "c62369cb",
   "metadata": {},
   "outputs": [],
   "source": [
    "INDICADORES.keys()"
   ]
  },
  {
   "cell_type": "code",
   "execution_count": null,
   "id": "bd51122f",
   "metadata": {},
   "outputs": [],
   "source": [
    "PATHS['BRONZE_LAYER']"
   ]
  },
  {
   "cell_type": "code",
   "execution_count": null,
   "id": "54103c65",
   "metadata": {},
   "outputs": [],
   "source": [
    "def ler_dados_cotacao(moeda: str, path: str = PATHS['BRONZE_LAYER'], data: str = DATA_FINAL):\n",
    "    \"\"\"\n",
    "    Lê um arquivo JSON de cotação e retorna um DataFrame.\n",
    "\n",
    "    Args:\n",
    "        path (str): Caminho da pasta onde está o JSON.\n",
    "        moeda (str): Nome da moeda (ex: 'USD_BRL').\n",
    "        data (datetime, opcional): Data desejada. Default: DATA_FINAL.\n",
    "\n",
    "    Returns:\n",
    "        [pd.DataFrame]: DataFrame formatado ou None se houver erro.\n",
    "    \"\"\"\n",
    "\n",
    "    try:\n",
    "        moeda = moeda.lower()\n",
    "        data_str = pd.to_datetime(data, format=\"%d/%m/%Y\").strftime(\"%Y%m%d\")\n",
    "        nome_arquivo = f\"{moeda}_{data_str}.json\"\n",
    "        path_arquivo = os.path.join(path, nome_arquivo)\n",
    "\n",
    "        logger.info(f\"Lendo arquivo: {path_arquivo}\")\n",
    "\n",
    "        df = pd.read_json(path_arquivo)\n",
    "\n",
    "       \n",
    "        df.rename(columns={'valor': moeda}, inplace=True)\n",
    "        df = df.astype({'data': 'datetime64', moeda.lower(): 'float64'}, errors='ignore')\n",
    "\n",
    "      \n",
    "        return df\n",
    "\n",
    "    except FileNotFoundError:\n",
    "        logger.warning(f\"Arquivo não encontrado: {nome_arquivo}\")\n",
    "    except Exception as e:\n",
    "        logger.error(f\"Erro ao ler {moeda} - {data_str}: {e}\", exc_info=True)\n",
    "\n",
    "    return None"
   ]
  },
  {
   "cell_type": "code",
   "execution_count": null,
   "id": "730c108e",
   "metadata": {},
   "outputs": [],
   "source": [
    "moedas = ['ARS_BRL', 'USD_BRL', 'EUR_BRL', 'GBP_BRL', 'JPY_BRL', 'CHF_BRL', 'CNY_BRL']\n",
    "\n",
    "df_cotacoes = ler_dados_cotacao(moeda='ars_brl',path=PATHS['BRONZE_LAYER'])"
   ]
  },
  {
   "cell_type": "code",
   "execution_count": null,
   "id": "b1476510",
   "metadata": {},
   "outputs": [],
   "source": [
    "df_cotacoes"
   ]
  },
  {
   "cell_type": "code",
   "execution_count": null,
   "id": "4caa43e1",
   "metadata": {},
   "outputs": [],
   "source": [
    "def salvar_dados_cotacao(dados: pd.DataFrame, moeda: str):\n",
    "    \"\"\"\n",
    "    Salva os dados brutos da API na camada silver.\n",
    "\n",
    "    Args:\n",
    "        dados (DataFrame): Dados retornados da API.\n",
    "        nome_cotacao (str): Nome da moeda de cotação.\n",
    "\n",
    "    Returns:\n",
    "        None\n",
    "    \"\"\"\n",
    "    try:\n",
    "        nome_arquivo = f\"{moeda.lower()}.parquet\"\n",
    "        caminho_arquivo = os.path.join(PATHS[\"SILVER_LAYER\"],nome_arquivo)\n",
    "        print(caminho_arquivo)\n",
    "        dados.to_parquet(caminho_arquivo)\n",
    "\n",
    "        \n",
    "        logger.info(f\"Indicacdor {moeda} salvo no arquivo: {nome_arquivo}\")\n",
    "\n",
    "    except Exception as e:\n",
    "        logger.error(f\"Erro ao salvar os dados na camada silver: {str(e)}\")\n",
    "        raise e"
   ]
  },
  {
   "cell_type": "code",
   "execution_count": null,
   "id": "4c756d8b",
   "metadata": {},
   "outputs": [],
   "source": [
    "salvar_dados_cotacao(df_cotacoes,'ARS_BRL')"
   ]
  },
  {
   "cell_type": "code",
   "execution_count": null,
   "id": "5c140ea3",
   "metadata": {},
   "outputs": [],
   "source": [
    "for nome_moeda, parametros in list(INDICADORES.items())[-7:]:\n",
    "   dados_cotacao = ler_dados_cotacao(moeda=nome_moeda)\n",
    "   salvar_dados_cotacao(dados=dados_cotacao,moeda=nome_moeda)\n"
   ]
  },
  {
   "cell_type": "code",
   "execution_count": null,
   "id": "ae8b9a61",
   "metadata": {},
   "outputs": [],
   "source": [
    "teste = obter_dados_api(INDICADORES['IPCA'])"
   ]
  },
  {
   "cell_type": "code",
   "execution_count": null,
   "id": "207d1c7b",
   "metadata": {},
   "outputs": [],
   "source": [
    "#INDICADORES['IPCA']['URL'],\n",
    "INDICADORES['DESEMPREGO']['URL']"
   ]
  },
  {
   "cell_type": "code",
   "execution_count": null,
   "id": "386a9855",
   "metadata": {},
   "outputs": [],
   "source": []
  },
  {
   "cell_type": "code",
   "execution_count": null,
   "id": "788922b4",
   "metadata": {},
   "outputs": [],
   "source": [
    "teste[0]['resultados'][0]['series'][0]['serie']"
   ]
  },
  {
   "cell_type": "code",
   "execution_count": null,
   "id": "8c343e3a",
   "metadata": {},
   "outputs": [],
   "source": [
    "salvar_dados_api(teste, 'ipca')"
   ]
  },
  {
   "cell_type": "code",
   "execution_count": null,
   "id": "1041048a",
   "metadata": {},
   "outputs": [],
   "source": []
  },
  {
   "cell_type": "code",
   "execution_count": null,
   "id": "40e9b62c",
   "metadata": {},
   "outputs": [],
   "source": [
    "for nome_indicador, config in INDICADORES.values():\n",
    "    try:\n",
    "        dados = obter_dados_api(indicador)\n",
    "        salvar_dados_api(dados, indicador['NOME'])\n",
    "    except Exception as e:\n",
    "        logger.error(f\"Erro ao processar o indicador {indicador['NOME']}: {str(e)}\")"
   ]
  },
  {
   "cell_type": "code",
   "execution_count": null,
   "id": "35226720",
   "metadata": {},
   "outputs": [],
   "source": [
    "\n",
    "Cotaçao cambio\n",
    "response = requests.get(\"https://api.bcb.gov.br/dados/serie/bcdata.sgs.21619/dados?formato=json&dataInicial=29/06/2015\")\n",
    "response.json()"
   ]
  },
  {
   "cell_type": "code",
   "execution_count": null,
   "id": "e5f183d2",
   "metadata": {},
   "outputs": [],
   "source": [
    "url = \"https://api.bcb.gov.br/dados/serie/bcdata.sgs.432/dados?formato=json&dataInicial=01/07/2015&dataFinal=01/07/2025\"\n",
    "\n",
    "response = requests.get(url)\n",
    "response.raise_for_status()  \n",
    "dados_cambio = response.json()"
   ]
  },
  {
   "cell_type": "code",
   "execution_count": null,
   "id": "c45fe455",
   "metadata": {},
   "outputs": [],
   "source": [
    "dados_cambio"
   ]
  },
  {
   "cell_type": "code",
   "execution_count": null,
   "id": "80e0fc74",
   "metadata": {},
   "outputs": [],
   "source": []
  }
 ],
 "metadata": {
  "kernelspec": {
   "display_name": "Python 3",
   "language": "python",
   "name": "python3"
  },
  "language_info": {
   "codemirror_mode": {
    "name": "ipython",
    "version": 3
   },
   "file_extension": ".py",
   "mimetype": "text/x-python",
   "name": "python",
   "nbconvert_exporter": "python",
   "pygments_lexer": "ipython3",
   "version": "3.12.6"
  }
 },
 "nbformat": 4,
 "nbformat_minor": 5
}
