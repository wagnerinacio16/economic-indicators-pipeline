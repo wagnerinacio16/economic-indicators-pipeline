{
 "cells": [
  {
   "cell_type": "code",
   "execution_count": 30,
   "id": "e1c2bf19",
   "metadata": {},
   "outputs": [],
   "source": [
    "import sys\n",
    "import os\n",
    "from pathlib import Path\n",
    "\n",
    "# Caminho absoluto para a raiz do projeto (um nível acima de notebooks)\n",
    "project_root = os.path.abspath(\"..\")\n",
    "if project_root not in sys.path:\n",
    "    sys.path.append(project_root)\n"
   ]
  },
  {
   "cell_type": "code",
   "execution_count": 31,
   "id": "6b4bf27d",
   "metadata": {},
   "outputs": [],
   "source": [
    "from config.utils import *\n"
   ]
  },
  {
   "cell_type": "code",
   "execution_count": 32,
   "id": "a9bcdb8a",
   "metadata": {},
   "outputs": [
    {
     "name": "stdout",
     "output_type": "stream",
     "text": [
      "IPCA\n",
      "DESEMPREGO\n"
     ]
    }
   ],
   "source": [
    "for nome_moeda, parametros in list(INDICADORES.items()):\n",
    "    if parametros['FONTE'] == 'IBGE':\n",
    "        print(nome_moeda)"
   ]
  },
  {
   "cell_type": "code",
   "execution_count": 14,
   "id": "70d4b879",
   "metadata": {},
   "outputs": [],
   "source": [
    "path = os.path.join(PATHS['BRONZE_LAYER'],\"ipca_20250701.json\")"
   ]
  },
  {
   "cell_type": "code",
   "execution_count": null,
   "id": "d4911e84",
   "metadata": {},
   "outputs": [],
   "source": [
    "with open(path, \"r\", encoding=\"utf-8\") as f:\n",
    "    dados = json.load(f)\n",
    "    pd.DataFrame(dados[0]['resultados'][0]['series'][0]['serie'].items(),columns=['data','valor'])\n",
    "    \n"
   ]
  },
  {
   "cell_type": "code",
   "execution_count": 23,
   "id": "cfe93c25",
   "metadata": {},
   "outputs": [
    {
     "data": {
      "text/html": [
       "<div>\n",
       "<style scoped>\n",
       "    .dataframe tbody tr th:only-of-type {\n",
       "        vertical-align: middle;\n",
       "    }\n",
       "\n",
       "    .dataframe tbody tr th {\n",
       "        vertical-align: top;\n",
       "    }\n",
       "\n",
       "    .dataframe thead th {\n",
       "        text-align: right;\n",
       "    }\n",
       "</style>\n",
       "<table border=\"1\" class=\"dataframe\">\n",
       "  <thead>\n",
       "    <tr style=\"text-align: right;\">\n",
       "      <th></th>\n",
       "      <th>data</th>\n",
       "      <th>valor</th>\n",
       "    </tr>\n",
       "  </thead>\n",
       "  <tbody>\n",
       "    <tr>\n",
       "      <th>0</th>\n",
       "      <td>202001</td>\n",
       "      <td>0.21</td>\n",
       "    </tr>\n",
       "    <tr>\n",
       "      <th>1</th>\n",
       "      <td>202002</td>\n",
       "      <td>0.25</td>\n",
       "    </tr>\n",
       "    <tr>\n",
       "      <th>2</th>\n",
       "      <td>202003</td>\n",
       "      <td>0.07</td>\n",
       "    </tr>\n",
       "    <tr>\n",
       "      <th>3</th>\n",
       "      <td>202004</td>\n",
       "      <td>-0.31</td>\n",
       "    </tr>\n",
       "    <tr>\n",
       "      <th>4</th>\n",
       "      <td>202005</td>\n",
       "      <td>-0.38</td>\n",
       "    </tr>\n",
       "    <tr>\n",
       "      <th>...</th>\n",
       "      <td>...</td>\n",
       "      <td>...</td>\n",
       "    </tr>\n",
       "    <tr>\n",
       "      <th>60</th>\n",
       "      <td>202501</td>\n",
       "      <td>0.16</td>\n",
       "    </tr>\n",
       "    <tr>\n",
       "      <th>61</th>\n",
       "      <td>202502</td>\n",
       "      <td>1.31</td>\n",
       "    </tr>\n",
       "    <tr>\n",
       "      <th>62</th>\n",
       "      <td>202503</td>\n",
       "      <td>0.56</td>\n",
       "    </tr>\n",
       "    <tr>\n",
       "      <th>63</th>\n",
       "      <td>202504</td>\n",
       "      <td>0.43</td>\n",
       "    </tr>\n",
       "    <tr>\n",
       "      <th>64</th>\n",
       "      <td>202505</td>\n",
       "      <td>0.26</td>\n",
       "    </tr>\n",
       "  </tbody>\n",
       "</table>\n",
       "<p>65 rows × 2 columns</p>\n",
       "</div>"
      ],
      "text/plain": [
       "      data  valor\n",
       "0   202001   0.21\n",
       "1   202002   0.25\n",
       "2   202003   0.07\n",
       "3   202004  -0.31\n",
       "4   202005  -0.38\n",
       "..     ...    ...\n",
       "60  202501   0.16\n",
       "61  202502   1.31\n",
       "62  202503   0.56\n",
       "63  202504   0.43\n",
       "64  202505   0.26\n",
       "\n",
       "[65 rows x 2 columns]"
      ]
     },
     "execution_count": 23,
     "metadata": {},
     "output_type": "execute_result"
    }
   ],
   "source": [
    "pd.DataFrame(dados[0]['resultados'][0]['series'][0]['serie'].items(),columns=['data','valor'])"
   ]
  },
  {
   "cell_type": "code",
   "execution_count": 33,
   "id": "df5cf3e0",
   "metadata": {},
   "outputs": [],
   "source": [
    "def ler_dados_indicadores(nome_indicador: str,nome_fonte:str , path: str = PATHS['BRONZE_LAYER'], data: str = DATA_FINAL):\n",
    "    \"\"\"\n",
    "    Lê um arquivo JSON de cotação e retorna um DataFrame.\n",
    "\n",
    "    Args:\n",
    "        path (str): Caminho da pasta onde está o JSON.\n",
    "        nome_indicador (str): Nome da nome_indicador (ex: 'USD_BRL').\n",
    "        data (datetime, opcional): Data desejada. Default: DATA_FINAL.\n",
    "\n",
    "    Returns:\n",
    "        [pd.DataFrame]: DataFrame formatado ou None se houver erro.\n",
    "    \"\"\"\n",
    "\n",
    "    try:\n",
    "        nome_indicador = nome_indicador.lower()\n",
    "        data_str = pd.to_datetime(data, format=\"%d/%m/%Y\").strftime(\"%Y%m%d\")\n",
    "        nome_arquivo = f\"{nome_indicador}_{data_str}.json\"\n",
    "        path_arquivo = os.path.join(path, nome_arquivo)\n",
    "\n",
    "        logger.info(f\"Lendo arquivo: {path_arquivo}\")\n",
    "\n",
    "        if nome_fonte == 'BACEN':\n",
    "\n",
    "            df = pd.read_json(path_arquivo)\n",
    "            df.rename(columns={'valor': nome_indicador}, inplace=True)\n",
    "            df = df.astype({'data': 'datetime64'}, errors='ignore')\n",
    "            return df\n",
    "        \n",
    "        elif nome_fonte == 'IBGE':\n",
    "\n",
    "            with open(path_arquivo, \"r\", encoding=\"utf-8\") as f:\n",
    "                dados = json.load(f)\n",
    "                df = pd.DataFrame(dados[0]['resultados'][0]['series'][0]['serie'].items(),columns=['data','valor'])\n",
    "                df.rename(columns={'valor': nome_indicador}, inplace=True)\n",
    "                df = df.astype({'data': 'datetime64'}, errors='ignore')\n",
    "                return df\n",
    "                \n",
    "    except FileNotFoundError:\n",
    "        logger.warning(f\"Arquivo não encontrado: {nome_arquivo}\")\n",
    "    except Exception as e:\n",
    "        logger.error(f\"Erro ao ler {nome_indicador} - {data_str}: {e}\", exc_info=True)\n",
    "\n",
    "    return None\n"
   ]
  },
  {
   "cell_type": "code",
   "execution_count": 36,
   "id": "0a0cf3c7",
   "metadata": {},
   "outputs": [],
   "source": [
    "def salvar_dados_indicadores(dados: pd.DataFrame, nome_indicador: str):\n",
    "    \"\"\"\n",
    "    Salva os dados brutos da API na camada silver.\n",
    "\n",
    "    Args:\n",
    "        dados (DataFrame): Dados retornados da API.\n",
    "        nome_cotacao (str): Nome da nome_indicador de cotação.\n",
    "\n",
    "    Returns:\n",
    "        None\n",
    "    \"\"\"\n",
    "    try:\n",
    "        nome_arquivo = f\"{nome_indicador.lower()}.parquet\"\n",
    "        caminho_arquivo = os.path.join(PATHS[\"SILVER_LAYER\"],nome_arquivo)\n",
    "        print(caminho_arquivo)\n",
    "        dados.to_parquet(caminho_arquivo)\n",
    "\n",
    "        \n",
    "        logger.success(f\"Indicacdor {nome_indicador} salvo no arquivo: {nome_arquivo}\")\n",
    "\n",
    "    except Exception as e:\n",
    "        logger.error(f\"Erro ao salvar os dados na camada silver: {str(e)}\")\n",
    "        raise e"
   ]
  },
  {
   "cell_type": "code",
   "execution_count": 37,
   "id": "a9089a04",
   "metadata": {},
   "outputs": [
    {
     "data": {
      "text/plain": [
       "<function __main__.salvar_dados_indicadores(dados: pandas.core.frame.DataFrame, nome_indicador: str)>"
      ]
     },
     "execution_count": 37,
     "metadata": {},
     "output_type": "execute_result"
    }
   ],
   "source": [
    "salvar_dados_indicadores"
   ]
  },
  {
   "cell_type": "code",
   "execution_count": 38,
   "id": "c98843b4",
   "metadata": {},
   "outputs": [
    {
     "name": "stderr",
     "output_type": "stream",
     "text": [
      "\u001b[32m2025-07-13 17:36:22.550\u001b[0m | \u001b[1mINFO    \u001b[0m | \u001b[36m__main__\u001b[0m:\u001b[36mler_dados_indicadores\u001b[0m:\u001b[36m20\u001b[0m - \u001b[1mLendo arquivo: C:\\Users\\BROliveiWa12\\OneDrive - NESTLE\\Documents\\Estudos\\Engenharia de Dados\\economic-indicators-pipeline\\data\\bronze\\ipca_20250713.json\u001b[0m\n",
      "\u001b[32m2025-07-13 17:36:22.714\u001b[0m | \u001b[32m\u001b[1mSUCCESS \u001b[0m | \u001b[36m__main__\u001b[0m:\u001b[36msalvar_dados_indicadores\u001b[0m:\u001b[36m19\u001b[0m - \u001b[32m\u001b[1mIndicacdor IPCA salvo no arquivo: ipca.parquet\u001b[0m\n",
      "\u001b[32m2025-07-13 17:36:22.715\u001b[0m | \u001b[1mINFO    \u001b[0m | \u001b[36m__main__\u001b[0m:\u001b[36mler_dados_indicadores\u001b[0m:\u001b[36m20\u001b[0m - \u001b[1mLendo arquivo: C:\\Users\\BROliveiWa12\\OneDrive - NESTLE\\Documents\\Estudos\\Engenharia de Dados\\economic-indicators-pipeline\\data\\bronze\\selic_meta_20250713.json\u001b[0m\n",
      "\u001b[32m2025-07-13 17:36:22.725\u001b[0m | \u001b[32m\u001b[1mSUCCESS \u001b[0m | \u001b[36m__main__\u001b[0m:\u001b[36msalvar_dados_indicadores\u001b[0m:\u001b[36m19\u001b[0m - \u001b[32m\u001b[1mIndicacdor SELIC_META salvo no arquivo: selic_meta.parquet\u001b[0m\n",
      "\u001b[32m2025-07-13 17:36:22.726\u001b[0m | \u001b[1mINFO    \u001b[0m | \u001b[36m__main__\u001b[0m:\u001b[36mler_dados_indicadores\u001b[0m:\u001b[36m20\u001b[0m - \u001b[1mLendo arquivo: C:\\Users\\BROliveiWa12\\OneDrive - NESTLE\\Documents\\Estudos\\Engenharia de Dados\\economic-indicators-pipeline\\data\\bronze\\ibc_br_20250713.json\u001b[0m\n",
      "\u001b[32m2025-07-13 17:36:22.734\u001b[0m | \u001b[32m\u001b[1mSUCCESS \u001b[0m | \u001b[36m__main__\u001b[0m:\u001b[36msalvar_dados_indicadores\u001b[0m:\u001b[36m19\u001b[0m - \u001b[32m\u001b[1mIndicacdor IBC_BR salvo no arquivo: ibc_br.parquet\u001b[0m\n"
     ]
    },
    {
     "name": "stdout",
     "output_type": "stream",
     "text": [
      "C:\\Users\\BROliveiWa12\\OneDrive - NESTLE\\Documents\\Estudos\\Engenharia de Dados\\economic-indicators-pipeline\\data\\silver\\ipca.parquet\n",
      "C:\\Users\\BROliveiWa12\\OneDrive - NESTLE\\Documents\\Estudos\\Engenharia de Dados\\economic-indicators-pipeline\\data\\silver\\selic_meta.parquet\n",
      "C:\\Users\\BROliveiWa12\\OneDrive - NESTLE\\Documents\\Estudos\\Engenharia de Dados\\economic-indicators-pipeline\\data\\silver\\ibc_br.parquet\n"
     ]
    },
    {
     "name": "stderr",
     "output_type": "stream",
     "text": [
      "\u001b[32m2025-07-13 17:36:22.735\u001b[0m | \u001b[1mINFO    \u001b[0m | \u001b[36m__main__\u001b[0m:\u001b[36mler_dados_indicadores\u001b[0m:\u001b[36m20\u001b[0m - \u001b[1mLendo arquivo: C:\\Users\\BROliveiWa12\\OneDrive - NESTLE\\Documents\\Estudos\\Engenharia de Dados\\economic-indicators-pipeline\\data\\bronze\\desemprego_20250713.json\u001b[0m\n",
      "\u001b[32m2025-07-13 17:36:22.741\u001b[0m | \u001b[32m\u001b[1mSUCCESS \u001b[0m | \u001b[36m__main__\u001b[0m:\u001b[36msalvar_dados_indicadores\u001b[0m:\u001b[36m19\u001b[0m - \u001b[32m\u001b[1mIndicacdor DESEMPREGO salvo no arquivo: desemprego.parquet\u001b[0m\n",
      "\u001b[32m2025-07-13 17:36:22.742\u001b[0m | \u001b[1mINFO    \u001b[0m | \u001b[36m__main__\u001b[0m:\u001b[36mler_dados_indicadores\u001b[0m:\u001b[36m20\u001b[0m - \u001b[1mLendo arquivo: C:\\Users\\BROliveiWa12\\OneDrive - NESTLE\\Documents\\Estudos\\Engenharia de Dados\\economic-indicators-pipeline\\data\\bronze\\inadimplencia_pf_20250713.json\u001b[0m\n",
      "\u001b[32m2025-07-13 17:36:22.752\u001b[0m | \u001b[32m\u001b[1mSUCCESS \u001b[0m | \u001b[36m__main__\u001b[0m:\u001b[36msalvar_dados_indicadores\u001b[0m:\u001b[36m19\u001b[0m - \u001b[32m\u001b[1mIndicacdor INADIMPLENCIA_PF salvo no arquivo: inadimplencia_pf.parquet\u001b[0m\n",
      "\u001b[32m2025-07-13 17:36:22.754\u001b[0m | \u001b[1mINFO    \u001b[0m | \u001b[36m__main__\u001b[0m:\u001b[36mler_dados_indicadores\u001b[0m:\u001b[36m20\u001b[0m - \u001b[1mLendo arquivo: C:\\Users\\BROliveiWa12\\OneDrive - NESTLE\\Documents\\Estudos\\Engenharia de Dados\\economic-indicators-pipeline\\data\\bronze\\ars_brl_20250713.json\u001b[0m\n",
      "\u001b[32m2025-07-13 17:36:22.768\u001b[0m | \u001b[32m\u001b[1mSUCCESS \u001b[0m | \u001b[36m__main__\u001b[0m:\u001b[36msalvar_dados_indicadores\u001b[0m:\u001b[36m19\u001b[0m - \u001b[32m\u001b[1mIndicacdor ARS_BRL salvo no arquivo: ars_brl.parquet\u001b[0m\n",
      "\u001b[32m2025-07-13 17:36:22.769\u001b[0m | \u001b[1mINFO    \u001b[0m | \u001b[36m__main__\u001b[0m:\u001b[36mler_dados_indicadores\u001b[0m:\u001b[36m20\u001b[0m - \u001b[1mLendo arquivo: C:\\Users\\BROliveiWa12\\OneDrive - NESTLE\\Documents\\Estudos\\Engenharia de Dados\\economic-indicators-pipeline\\data\\bronze\\usd_brl_20250713.json\u001b[0m\n",
      "\u001b[32m2025-07-13 17:36:22.786\u001b[0m | \u001b[32m\u001b[1mSUCCESS \u001b[0m | \u001b[36m__main__\u001b[0m:\u001b[36msalvar_dados_indicadores\u001b[0m:\u001b[36m19\u001b[0m - \u001b[32m\u001b[1mIndicacdor USD_BRL salvo no arquivo: usd_brl.parquet\u001b[0m\n",
      "\u001b[32m2025-07-13 17:36:22.788\u001b[0m | \u001b[1mINFO    \u001b[0m | \u001b[36m__main__\u001b[0m:\u001b[36mler_dados_indicadores\u001b[0m:\u001b[36m20\u001b[0m - \u001b[1mLendo arquivo: C:\\Users\\BROliveiWa12\\OneDrive - NESTLE\\Documents\\Estudos\\Engenharia de Dados\\economic-indicators-pipeline\\data\\bronze\\eur_brl_20250713.json\u001b[0m\n",
      "\u001b[32m2025-07-13 17:36:22.808\u001b[0m | \u001b[32m\u001b[1mSUCCESS \u001b[0m | \u001b[36m__main__\u001b[0m:\u001b[36msalvar_dados_indicadores\u001b[0m:\u001b[36m19\u001b[0m - \u001b[32m\u001b[1mIndicacdor EUR_BRL salvo no arquivo: eur_brl.parquet\u001b[0m\n",
      "\u001b[32m2025-07-13 17:36:22.811\u001b[0m | \u001b[1mINFO    \u001b[0m | \u001b[36m__main__\u001b[0m:\u001b[36mler_dados_indicadores\u001b[0m:\u001b[36m20\u001b[0m - \u001b[1mLendo arquivo: C:\\Users\\BROliveiWa12\\OneDrive - NESTLE\\Documents\\Estudos\\Engenharia de Dados\\economic-indicators-pipeline\\data\\bronze\\gbp_brl_20250713.json\u001b[0m\n",
      "\u001b[32m2025-07-13 17:36:22.827\u001b[0m | \u001b[32m\u001b[1mSUCCESS \u001b[0m | \u001b[36m__main__\u001b[0m:\u001b[36msalvar_dados_indicadores\u001b[0m:\u001b[36m19\u001b[0m - \u001b[32m\u001b[1mIndicacdor GBP_BRL salvo no arquivo: gbp_brl.parquet\u001b[0m\n",
      "\u001b[32m2025-07-13 17:36:22.830\u001b[0m | \u001b[1mINFO    \u001b[0m | \u001b[36m__main__\u001b[0m:\u001b[36mler_dados_indicadores\u001b[0m:\u001b[36m20\u001b[0m - \u001b[1mLendo arquivo: C:\\Users\\BROliveiWa12\\OneDrive - NESTLE\\Documents\\Estudos\\Engenharia de Dados\\economic-indicators-pipeline\\data\\bronze\\jpy_brl_20250713.json\u001b[0m\n",
      "\u001b[32m2025-07-13 17:36:22.843\u001b[0m | \u001b[32m\u001b[1mSUCCESS \u001b[0m | \u001b[36m__main__\u001b[0m:\u001b[36msalvar_dados_indicadores\u001b[0m:\u001b[36m19\u001b[0m - \u001b[32m\u001b[1mIndicacdor JPY_BRL salvo no arquivo: jpy_brl.parquet\u001b[0m\n",
      "\u001b[32m2025-07-13 17:36:22.845\u001b[0m | \u001b[1mINFO    \u001b[0m | \u001b[36m__main__\u001b[0m:\u001b[36mler_dados_indicadores\u001b[0m:\u001b[36m20\u001b[0m - \u001b[1mLendo arquivo: C:\\Users\\BROliveiWa12\\OneDrive - NESTLE\\Documents\\Estudos\\Engenharia de Dados\\economic-indicators-pipeline\\data\\bronze\\chf_brl_20250713.json\u001b[0m\n",
      "\u001b[32m2025-07-13 17:36:22.854\u001b[0m | \u001b[32m\u001b[1mSUCCESS \u001b[0m | \u001b[36m__main__\u001b[0m:\u001b[36msalvar_dados_indicadores\u001b[0m:\u001b[36m19\u001b[0m - \u001b[32m\u001b[1mIndicacdor CHF_BRL salvo no arquivo: chf_brl.parquet\u001b[0m\n",
      "\u001b[32m2025-07-13 17:36:22.856\u001b[0m | \u001b[1mINFO    \u001b[0m | \u001b[36m__main__\u001b[0m:\u001b[36mler_dados_indicadores\u001b[0m:\u001b[36m20\u001b[0m - \u001b[1mLendo arquivo: C:\\Users\\BROliveiWa12\\OneDrive - NESTLE\\Documents\\Estudos\\Engenharia de Dados\\economic-indicators-pipeline\\data\\bronze\\cny_brl_20250713.json\u001b[0m\n",
      "\u001b[32m2025-07-13 17:36:22.867\u001b[0m | \u001b[32m\u001b[1mSUCCESS \u001b[0m | \u001b[36m__main__\u001b[0m:\u001b[36msalvar_dados_indicadores\u001b[0m:\u001b[36m19\u001b[0m - \u001b[32m\u001b[1mIndicacdor CNY_BRL salvo no arquivo: cny_brl.parquet\u001b[0m\n"
     ]
    },
    {
     "name": "stdout",
     "output_type": "stream",
     "text": [
      "C:\\Users\\BROliveiWa12\\OneDrive - NESTLE\\Documents\\Estudos\\Engenharia de Dados\\economic-indicators-pipeline\\data\\silver\\desemprego.parquet\n",
      "C:\\Users\\BROliveiWa12\\OneDrive - NESTLE\\Documents\\Estudos\\Engenharia de Dados\\economic-indicators-pipeline\\data\\silver\\inadimplencia_pf.parquet\n",
      "C:\\Users\\BROliveiWa12\\OneDrive - NESTLE\\Documents\\Estudos\\Engenharia de Dados\\economic-indicators-pipeline\\data\\silver\\ars_brl.parquet\n",
      "C:\\Users\\BROliveiWa12\\OneDrive - NESTLE\\Documents\\Estudos\\Engenharia de Dados\\economic-indicators-pipeline\\data\\silver\\usd_brl.parquet\n",
      "C:\\Users\\BROliveiWa12\\OneDrive - NESTLE\\Documents\\Estudos\\Engenharia de Dados\\economic-indicators-pipeline\\data\\silver\\eur_brl.parquet\n",
      "C:\\Users\\BROliveiWa12\\OneDrive - NESTLE\\Documents\\Estudos\\Engenharia de Dados\\economic-indicators-pipeline\\data\\silver\\gbp_brl.parquet\n",
      "C:\\Users\\BROliveiWa12\\OneDrive - NESTLE\\Documents\\Estudos\\Engenharia de Dados\\economic-indicators-pipeline\\data\\silver\\jpy_brl.parquet\n",
      "C:\\Users\\BROliveiWa12\\OneDrive - NESTLE\\Documents\\Estudos\\Engenharia de Dados\\economic-indicators-pipeline\\data\\silver\\chf_brl.parquet\n",
      "C:\\Users\\BROliveiWa12\\OneDrive - NESTLE\\Documents\\Estudos\\Engenharia de Dados\\economic-indicators-pipeline\\data\\silver\\cny_brl.parquet\n"
     ]
    }
   ],
   "source": [
    "for inidcador, parametros in list(INDICADORES.items()):\n",
    "   if parametros['FONTE'] == 'BACEN':\n",
    "      dados_indicador = ler_dados_indicadores(nome_indicador=inidcador, nome_fonte='BACEN')\n",
    "      salvar_dados_indicadores(dados=dados_indicador,nome_indicador=inidcador)\n",
    "    \n",
    "   else:\n",
    "     dados_indicador = ler_dados_indicadores(nome_indicador=inidcador, nome_fonte='IBGE')\n",
    "     salvar_dados_indicadores(dados=dados_indicador,nome_indicador=inidcador)"
   ]
  },
  {
   "cell_type": "code",
   "execution_count": null,
   "id": "33409f42",
   "metadata": {},
   "outputs": [],
   "source": [
    "path_silver = os.path.join(PATHS['SILVER_LAYER'],\"ipca.parquet\")\n",
    "pd.read_parquet()"
   ]
  },
  {
   "cell_type": "code",
   "execution_count": 16,
   "id": "c62369cb",
   "metadata": {},
   "outputs": [
    {
     "data": {
      "text/plain": [
       "dict_keys(['IPCA', 'SELIC_META', 'IBC_BR', 'DESEMPREGO', 'INADIMPLENCIA_PF', 'ARS_BRL', 'USD_BRL', 'EUR_BRL', 'GBP_BRL', 'JPY_BRL', 'CHF_BRL', 'CNY_BRL'])"
      ]
     },
     "execution_count": 16,
     "metadata": {},
     "output_type": "execute_result"
    }
   ],
   "source": [
    "INDICADORES.keys()"
   ]
  },
  {
   "cell_type": "code",
   "execution_count": 105,
   "id": "bd51122f",
   "metadata": {},
   "outputs": [
    {
     "data": {
      "text/plain": [
       "'C:\\\\Users\\\\BROliveiWa12\\\\OneDrive - NESTLE\\\\Documents\\\\Estudos\\\\Engenharia de Dados\\\\economic-indicators-pipeline\\\\data\\\\bronze'"
      ]
     },
     "execution_count": 105,
     "metadata": {},
     "output_type": "execute_result"
    }
   ],
   "source": [
    "PATHS['BRONZE_LAYER']"
   ]
  },
  {
   "cell_type": "code",
   "execution_count": 148,
   "id": "54103c65",
   "metadata": {},
   "outputs": [],
   "source": [
    "def ler_dados_cotacao(moeda: str, path: str = PATHS['BRONZE_LAYER'], data: str = DATA_FINAL):\n",
    "    \"\"\"\n",
    "    Lê um arquivo JSON de cotação e retorna um DataFrame.\n",
    "\n",
    "    Args:\n",
    "        path (str): Caminho da pasta onde está o JSON.\n",
    "        moeda (str): Nome da moeda (ex: 'USD_BRL').\n",
    "        data (datetime, opcional): Data desejada. Default: DATA_FINAL.\n",
    "\n",
    "    Returns:\n",
    "        [pd.DataFrame]: DataFrame formatado ou None se houver erro.\n",
    "    \"\"\"\n",
    "\n",
    "    try:\n",
    "        moeda = moeda.lower()\n",
    "        data_str = pd.to_datetime(data, format=\"%d/%m/%Y\").strftime(\"%Y%m%d\")\n",
    "        nome_arquivo = f\"{moeda}_{data_str}.json\"\n",
    "        path_arquivo = os.path.join(path, nome_arquivo)\n",
    "\n",
    "        logger.info(f\"Lendo arquivo: {path_arquivo}\")\n",
    "\n",
    "        df = pd.read_json(path_arquivo)\n",
    "\n",
    "       \n",
    "        df.rename(columns={'valor': moeda}, inplace=True)\n",
    "        df = df.astype({'data': 'datetime64', moeda.lower(): 'float64'}, errors='ignore')\n",
    "\n",
    "      \n",
    "        return df\n",
    "\n",
    "    except FileNotFoundError:\n",
    "        logger.warning(f\"Arquivo não encontrado: {nome_arquivo}\")\n",
    "    except Exception as e:\n",
    "        logger.error(f\"Erro ao ler {moeda} - {data_str}: {e}\", exc_info=True)\n",
    "\n",
    "    return None"
   ]
  },
  {
   "cell_type": "code",
   "execution_count": 149,
   "id": "730c108e",
   "metadata": {},
   "outputs": [
    {
     "name": "stderr",
     "output_type": "stream",
     "text": [
      "\u001b[32m2025-07-13 01:37:18.458\u001b[0m | \u001b[1mINFO    \u001b[0m | \u001b[36m__main__\u001b[0m:\u001b[36mler_dados_cotacao\u001b[0m:\u001b[36m20\u001b[0m - \u001b[1mLendo arquivo: C:\\Users\\BROliveiWa12\\OneDrive - NESTLE\\Documents\\Estudos\\Engenharia de Dados\\economic-indicators-pipeline\\data\\bronze\\ars_brl_20250712.json\u001b[0m\n"
     ]
    }
   ],
   "source": [
    "moedas = ['ARS_BRL', 'USD_BRL', 'EUR_BRL', 'GBP_BRL', 'JPY_BRL', 'CHF_BRL', 'CNY_BRL']\n",
    "\n",
    "df_cotacoes = ler_dados_cotacao(moeda='ars_brl',path=PATHS['BRONZE_LAYER'])"
   ]
  },
  {
   "cell_type": "code",
   "execution_count": 150,
   "id": "b1476510",
   "metadata": {},
   "outputs": [
    {
     "data": {
      "text/html": [
       "<div>\n",
       "<style scoped>\n",
       "    .dataframe tbody tr th:only-of-type {\n",
       "        vertical-align: middle;\n",
       "    }\n",
       "\n",
       "    .dataframe tbody tr th {\n",
       "        vertical-align: top;\n",
       "    }\n",
       "\n",
       "    .dataframe thead th {\n",
       "        text-align: right;\n",
       "    }\n",
       "</style>\n",
       "<table border=\"1\" class=\"dataframe\">\n",
       "  <thead>\n",
       "    <tr style=\"text-align: right;\">\n",
       "      <th></th>\n",
       "      <th>data</th>\n",
       "      <th>ars_brl</th>\n",
       "    </tr>\n",
       "  </thead>\n",
       "  <tbody>\n",
       "    <tr>\n",
       "      <th>0</th>\n",
       "      <td>13/07/2015</td>\n",
       "      <td>0.02560</td>\n",
       "    </tr>\n",
       "    <tr>\n",
       "      <th>1</th>\n",
       "      <td>14/07/2015</td>\n",
       "      <td>0.02530</td>\n",
       "    </tr>\n",
       "    <tr>\n",
       "      <th>2</th>\n",
       "      <td>15/07/2015</td>\n",
       "      <td>0.02544</td>\n",
       "    </tr>\n",
       "    <tr>\n",
       "      <th>3</th>\n",
       "      <td>16/07/2015</td>\n",
       "      <td>0.02529</td>\n",
       "    </tr>\n",
       "    <tr>\n",
       "      <th>4</th>\n",
       "      <td>17/07/2015</td>\n",
       "      <td>0.02566</td>\n",
       "    </tr>\n",
       "    <tr>\n",
       "      <th>...</th>\n",
       "      <td>...</td>\n",
       "      <td>...</td>\n",
       "    </tr>\n",
       "    <tr>\n",
       "      <th>2501</th>\n",
       "      <td>07/07/2025</td>\n",
       "      <td>0.03739</td>\n",
       "    </tr>\n",
       "    <tr>\n",
       "      <th>2502</th>\n",
       "      <td>08/07/2025</td>\n",
       "      <td>0.03716</td>\n",
       "    </tr>\n",
       "    <tr>\n",
       "      <th>2503</th>\n",
       "      <td>09/07/2025</td>\n",
       "      <td>0.03727</td>\n",
       "    </tr>\n",
       "    <tr>\n",
       "      <th>2504</th>\n",
       "      <td>10/07/2025</td>\n",
       "      <td>0.03784</td>\n",
       "    </tr>\n",
       "    <tr>\n",
       "      <th>2505</th>\n",
       "      <td>11/07/2025</td>\n",
       "      <td>0.03782</td>\n",
       "    </tr>\n",
       "  </tbody>\n",
       "</table>\n",
       "<p>2506 rows × 2 columns</p>\n",
       "</div>"
      ],
      "text/plain": [
       "            data  ars_brl\n",
       "0     13/07/2015  0.02560\n",
       "1     14/07/2015  0.02530\n",
       "2     15/07/2015  0.02544\n",
       "3     16/07/2015  0.02529\n",
       "4     17/07/2015  0.02566\n",
       "...          ...      ...\n",
       "2501  07/07/2025  0.03739\n",
       "2502  08/07/2025  0.03716\n",
       "2503  09/07/2025  0.03727\n",
       "2504  10/07/2025  0.03784\n",
       "2505  11/07/2025  0.03782\n",
       "\n",
       "[2506 rows x 2 columns]"
      ]
     },
     "execution_count": 150,
     "metadata": {},
     "output_type": "execute_result"
    }
   ],
   "source": [
    "df_cotacoes"
   ]
  },
  {
   "cell_type": "code",
   "execution_count": 151,
   "id": "4caa43e1",
   "metadata": {},
   "outputs": [],
   "source": [
    "def salvar_dados_cotacao(dados: pd.DataFrame, moeda: str):\n",
    "    \"\"\"\n",
    "    Salva os dados brutos da API na camada silver.\n",
    "\n",
    "    Args:\n",
    "        dados (DataFrame): Dados retornados da API.\n",
    "        nome_cotacao (str): Nome da moeda de cotação.\n",
    "\n",
    "    Returns:\n",
    "        None\n",
    "    \"\"\"\n",
    "    try:\n",
    "        nome_arquivo = f\"{moeda.lower()}.parquet\"\n",
    "        caminho_arquivo = os.path.join(PATHS[\"SILVER_LAYER\"],nome_arquivo)\n",
    "        print(caminho_arquivo)\n",
    "        dados.to_parquet(caminho_arquivo)\n",
    "\n",
    "        \n",
    "        logger.info(f\"Indicacdor {moeda} salvo no arquivo: {nome_arquivo}\")\n",
    "\n",
    "    except Exception as e:\n",
    "        logger.error(f\"Erro ao salvar os dados na camada silver: {str(e)}\")\n",
    "        raise e"
   ]
  },
  {
   "cell_type": "code",
   "execution_count": 152,
   "id": "4c756d8b",
   "metadata": {},
   "outputs": [
    {
     "name": "stderr",
     "output_type": "stream",
     "text": [
      "\u001b[32m2025-07-13 01:37:24.500\u001b[0m | \u001b[1mINFO    \u001b[0m | \u001b[36m__main__\u001b[0m:\u001b[36msalvar_dados_cotacao\u001b[0m:\u001b[36m19\u001b[0m - \u001b[1mIndicacdor ARS_BRL salvo no arquivo: ars_brl.parquet\u001b[0m\n"
     ]
    },
    {
     "name": "stdout",
     "output_type": "stream",
     "text": [
      "C:\\Users\\BROliveiWa12\\OneDrive - NESTLE\\Documents\\Estudos\\Engenharia de Dados\\economic-indicators-pipeline\\data\\silver\\ars_brl.parquet\n"
     ]
    }
   ],
   "source": [
    "salvar_dados_cotacao(df_cotacoes,'ARS_BRL')"
   ]
  },
  {
   "cell_type": "code",
   "execution_count": 154,
   "id": "5c140ea3",
   "metadata": {},
   "outputs": [
    {
     "name": "stderr",
     "output_type": "stream",
     "text": [
      "\u001b[32m2025-07-13 01:37:44.997\u001b[0m | \u001b[1mINFO    \u001b[0m | \u001b[36m__main__\u001b[0m:\u001b[36mler_dados_cotacao\u001b[0m:\u001b[36m20\u001b[0m - \u001b[1mLendo arquivo: C:\\Users\\BROliveiWa12\\OneDrive - NESTLE\\Documents\\Estudos\\Engenharia de Dados\\economic-indicators-pipeline\\data\\bronze\\ars_brl_20250712.json\u001b[0m\n",
      "\u001b[32m2025-07-13 01:37:45.012\u001b[0m | \u001b[1mINFO    \u001b[0m | \u001b[36m__main__\u001b[0m:\u001b[36msalvar_dados_cotacao\u001b[0m:\u001b[36m19\u001b[0m - \u001b[1mIndicacdor ARS_BRL salvo no arquivo: ars_brl.parquet\u001b[0m\n",
      "\u001b[32m2025-07-13 01:37:45.014\u001b[0m | \u001b[1mINFO    \u001b[0m | \u001b[36m__main__\u001b[0m:\u001b[36mler_dados_cotacao\u001b[0m:\u001b[36m20\u001b[0m - \u001b[1mLendo arquivo: C:\\Users\\BROliveiWa12\\OneDrive - NESTLE\\Documents\\Estudos\\Engenharia de Dados\\economic-indicators-pipeline\\data\\bronze\\usd_brl_20250712.json\u001b[0m\n",
      "\u001b[32m2025-07-13 01:37:45.049\u001b[0m | \u001b[1mINFO    \u001b[0m | \u001b[36m__main__\u001b[0m:\u001b[36msalvar_dados_cotacao\u001b[0m:\u001b[36m19\u001b[0m - \u001b[1mIndicacdor USD_BRL salvo no arquivo: usd_brl.parquet\u001b[0m\n",
      "\u001b[32m2025-07-13 01:37:45.050\u001b[0m | \u001b[1mINFO    \u001b[0m | \u001b[36m__main__\u001b[0m:\u001b[36mler_dados_cotacao\u001b[0m:\u001b[36m20\u001b[0m - \u001b[1mLendo arquivo: C:\\Users\\BROliveiWa12\\OneDrive - NESTLE\\Documents\\Estudos\\Engenharia de Dados\\economic-indicators-pipeline\\data\\bronze\\eur_brl_20250712.json\u001b[0m\n",
      "\u001b[32m2025-07-13 01:37:45.087\u001b[0m | \u001b[1mINFO    \u001b[0m | \u001b[36m__main__\u001b[0m:\u001b[36msalvar_dados_cotacao\u001b[0m:\u001b[36m19\u001b[0m - \u001b[1mIndicacdor EUR_BRL salvo no arquivo: eur_brl.parquet\u001b[0m\n",
      "\u001b[32m2025-07-13 01:37:45.089\u001b[0m | \u001b[1mINFO    \u001b[0m | \u001b[36m__main__\u001b[0m:\u001b[36mler_dados_cotacao\u001b[0m:\u001b[36m20\u001b[0m - \u001b[1mLendo arquivo: C:\\Users\\BROliveiWa12\\OneDrive - NESTLE\\Documents\\Estudos\\Engenharia de Dados\\economic-indicators-pipeline\\data\\bronze\\gbp_brl_20250712.json\u001b[0m\n",
      "\u001b[32m2025-07-13 01:37:45.131\u001b[0m | \u001b[1mINFO    \u001b[0m | \u001b[36m__main__\u001b[0m:\u001b[36msalvar_dados_cotacao\u001b[0m:\u001b[36m19\u001b[0m - \u001b[1mIndicacdor GBP_BRL salvo no arquivo: gbp_brl.parquet\u001b[0m\n",
      "\u001b[32m2025-07-13 01:37:45.132\u001b[0m | \u001b[1mINFO    \u001b[0m | \u001b[36m__main__\u001b[0m:\u001b[36mler_dados_cotacao\u001b[0m:\u001b[36m20\u001b[0m - \u001b[1mLendo arquivo: C:\\Users\\BROliveiWa12\\OneDrive - NESTLE\\Documents\\Estudos\\Engenharia de Dados\\economic-indicators-pipeline\\data\\bronze\\jpy_brl_20250712.json\u001b[0m\n",
      "\u001b[32m2025-07-13 01:37:45.158\u001b[0m | \u001b[1mINFO    \u001b[0m | \u001b[36m__main__\u001b[0m:\u001b[36msalvar_dados_cotacao\u001b[0m:\u001b[36m19\u001b[0m - \u001b[1mIndicacdor JPY_BRL salvo no arquivo: jpy_brl.parquet\u001b[0m\n",
      "\u001b[32m2025-07-13 01:37:45.159\u001b[0m | \u001b[1mINFO    \u001b[0m | \u001b[36m__main__\u001b[0m:\u001b[36mler_dados_cotacao\u001b[0m:\u001b[36m20\u001b[0m - \u001b[1mLendo arquivo: C:\\Users\\BROliveiWa12\\OneDrive - NESTLE\\Documents\\Estudos\\Engenharia de Dados\\economic-indicators-pipeline\\data\\bronze\\chf_brl_20250712.json\u001b[0m\n"
     ]
    },
    {
     "name": "stdout",
     "output_type": "stream",
     "text": [
      "C:\\Users\\BROliveiWa12\\OneDrive - NESTLE\\Documents\\Estudos\\Engenharia de Dados\\economic-indicators-pipeline\\data\\silver\\ars_brl.parquet\n",
      "C:\\Users\\BROliveiWa12\\OneDrive - NESTLE\\Documents\\Estudos\\Engenharia de Dados\\economic-indicators-pipeline\\data\\silver\\usd_brl.parquet\n",
      "C:\\Users\\BROliveiWa12\\OneDrive - NESTLE\\Documents\\Estudos\\Engenharia de Dados\\economic-indicators-pipeline\\data\\silver\\eur_brl.parquet\n",
      "C:\\Users\\BROliveiWa12\\OneDrive - NESTLE\\Documents\\Estudos\\Engenharia de Dados\\economic-indicators-pipeline\\data\\silver\\gbp_brl.parquet\n",
      "C:\\Users\\BROliveiWa12\\OneDrive - NESTLE\\Documents\\Estudos\\Engenharia de Dados\\economic-indicators-pipeline\\data\\silver\\jpy_brl.parquet\n",
      "C:\\Users\\BROliveiWa12\\OneDrive - NESTLE\\Documents\\Estudos\\Engenharia de Dados\\economic-indicators-pipeline\\data\\silver\\chf_brl.parquet\n"
     ]
    },
    {
     "name": "stderr",
     "output_type": "stream",
     "text": [
      "\u001b[32m2025-07-13 01:37:45.203\u001b[0m | \u001b[1mINFO    \u001b[0m | \u001b[36m__main__\u001b[0m:\u001b[36msalvar_dados_cotacao\u001b[0m:\u001b[36m19\u001b[0m - \u001b[1mIndicacdor CHF_BRL salvo no arquivo: chf_brl.parquet\u001b[0m\n",
      "\u001b[32m2025-07-13 01:37:45.204\u001b[0m | \u001b[1mINFO    \u001b[0m | \u001b[36m__main__\u001b[0m:\u001b[36mler_dados_cotacao\u001b[0m:\u001b[36m20\u001b[0m - \u001b[1mLendo arquivo: C:\\Users\\BROliveiWa12\\OneDrive - NESTLE\\Documents\\Estudos\\Engenharia de Dados\\economic-indicators-pipeline\\data\\bronze\\cny_brl_20250712.json\u001b[0m\n",
      "\u001b[32m2025-07-13 01:37:45.243\u001b[0m | \u001b[1mINFO    \u001b[0m | \u001b[36m__main__\u001b[0m:\u001b[36msalvar_dados_cotacao\u001b[0m:\u001b[36m19\u001b[0m - \u001b[1mIndicacdor CNY_BRL salvo no arquivo: cny_brl.parquet\u001b[0m\n"
     ]
    },
    {
     "name": "stdout",
     "output_type": "stream",
     "text": [
      "C:\\Users\\BROliveiWa12\\OneDrive - NESTLE\\Documents\\Estudos\\Engenharia de Dados\\economic-indicators-pipeline\\data\\silver\\cny_brl.parquet\n"
     ]
    }
   ],
   "source": [
    "for nome_moeda, parametros in list(INDICADORES.items())[-7:]:\n",
    "   dados_cotacao = ler_dados_cotacao(moeda=nome_moeda)\n",
    "   salvar_dados_cotacao(dados=dados_cotacao,moeda=nome_moeda)\n"
   ]
  },
  {
   "cell_type": "code",
   "execution_count": null,
   "id": "ae8b9a61",
   "metadata": {},
   "outputs": [],
   "source": [
    "teste = obter_dados_api(INDICADORES['IPCA'])"
   ]
  },
  {
   "cell_type": "code",
   "execution_count": null,
   "id": "207d1c7b",
   "metadata": {},
   "outputs": [],
   "source": [
    "#INDICADORES['IPCA']['URL'],\n",
    "INDICADORES['DESEMPREGO']['URL']"
   ]
  },
  {
   "cell_type": "code",
   "execution_count": null,
   "id": "386a9855",
   "metadata": {},
   "outputs": [],
   "source": []
  },
  {
   "cell_type": "code",
   "execution_count": null,
   "id": "788922b4",
   "metadata": {},
   "outputs": [],
   "source": [
    "teste[0]['resultados'][0]['series'][0]['serie']"
   ]
  },
  {
   "cell_type": "code",
   "execution_count": null,
   "id": "8c343e3a",
   "metadata": {},
   "outputs": [],
   "source": [
    "salvar_dados_api(teste, 'ipca')"
   ]
  },
  {
   "cell_type": "code",
   "execution_count": null,
   "id": "1041048a",
   "metadata": {},
   "outputs": [],
   "source": []
  },
  {
   "cell_type": "code",
   "execution_count": null,
   "id": "40e9b62c",
   "metadata": {},
   "outputs": [],
   "source": [
    "for nome_indicador, config in INDICADORES.values():\n",
    "    try:\n",
    "        dados = obter_dados_api(indicador)\n",
    "        salvar_dados_api(dados, indicador['NOME'])\n",
    "    except Exception as e:\n",
    "        logger.error(f\"Erro ao processar o indicador {indicador['NOME']}: {str(e)}\")"
   ]
  },
  {
   "cell_type": "code",
   "execution_count": null,
   "id": "35226720",
   "metadata": {},
   "outputs": [],
   "source": [
    "\n",
    "Cotaçao cambio\n",
    "response = requests.get(\"https://api.bcb.gov.br/dados/serie/bcdata.sgs.21619/dados?formato=json&dataInicial=29/06/2015\")\n",
    "response.json()"
   ]
  },
  {
   "cell_type": "code",
   "execution_count": null,
   "id": "e5f183d2",
   "metadata": {},
   "outputs": [],
   "source": [
    "url = \"https://api.bcb.gov.br/dados/serie/bcdata.sgs.432/dados?formato=json&dataInicial=01/07/2015&dataFinal=01/07/2025\"\n",
    "\n",
    "response = requests.get(url)\n",
    "response.raise_for_status()  \n",
    "dados_cambio = response.json()"
   ]
  },
  {
   "cell_type": "code",
   "execution_count": null,
   "id": "c45fe455",
   "metadata": {},
   "outputs": [],
   "source": [
    "dados_cambio"
   ]
  },
  {
   "cell_type": "code",
   "execution_count": null,
   "id": "80e0fc74",
   "metadata": {},
   "outputs": [],
   "source": []
  }
 ],
 "metadata": {
  "kernelspec": {
   "display_name": "Python 3",
   "language": "python",
   "name": "python3"
  },
  "language_info": {
   "codemirror_mode": {
    "name": "ipython",
    "version": 3
   },
   "file_extension": ".py",
   "mimetype": "text/x-python",
   "name": "python",
   "nbconvert_exporter": "python",
   "pygments_lexer": "ipython3",
   "version": "3.12.6"
  }
 },
 "nbformat": 4,
 "nbformat_minor": 5
}
