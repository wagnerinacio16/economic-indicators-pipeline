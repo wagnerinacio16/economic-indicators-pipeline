{
 "cells": [
  {
   "cell_type": "code",
   "execution_count": null,
   "id": "e1c2bf19",
   "metadata": {},
   "outputs": [],
   "source": [
    "import sys\n",
    "import os\n",
    "from pathlib import Path\n",
    "\n",
    "# Caminho absoluto para a raiz do projeto (um nível acima de notebooks)\n",
    "project_root = os.path.abspath(\"..\")\n",
    "if project_root not in sys.path:\n",
    "    sys.path.append(project_root)\n"
   ]
  },
  {
   "cell_type": "code",
   "execution_count": null,
   "id": "6b4bf27d",
   "metadata": {},
   "outputs": [],
   "source": [
    "from config.utils import *\n"
   ]
  },
  {
   "cell_type": "code",
   "execution_count": null,
   "id": "54103c65",
   "metadata": {},
   "outputs": [],
   "source": []
  },
  {
   "cell_type": "code",
   "execution_count": null,
   "id": "ae8b9a61",
   "metadata": {},
   "outputs": [],
   "source": [
    "teste = obter_dados_api(INDICADORES['IPCA'])"
   ]
  },
  {
   "cell_type": "code",
   "execution_count": null,
   "id": "207d1c7b",
   "metadata": {},
   "outputs": [],
   "source": [
    "#INDICADORES['IPCA']['URL'],\n",
    "INDICADORES['DESEMPREGO']['URL']"
   ]
  },
  {
   "cell_type": "code",
   "execution_count": null,
   "id": "386a9855",
   "metadata": {},
   "outputs": [],
   "source": []
  },
  {
   "cell_type": "code",
   "execution_count": null,
   "id": "788922b4",
   "metadata": {},
   "outputs": [],
   "source": [
    "teste[0]['resultados'][0]['series'][0]['serie']"
   ]
  },
  {
   "cell_type": "code",
   "execution_count": null,
   "id": "8c343e3a",
   "metadata": {},
   "outputs": [],
   "source": [
    "salvar_dados_api(teste, 'ipca')"
   ]
  },
  {
   "cell_type": "code",
   "execution_count": null,
   "id": "1041048a",
   "metadata": {},
   "outputs": [],
   "source": []
  },
  {
   "cell_type": "code",
   "execution_count": null,
   "id": "40e9b62c",
   "metadata": {},
   "outputs": [],
   "source": [
    "for nome_indicador, config in INDICADORES.values():\n",
    "    try:\n",
    "        dados = obter_dados_api(indicador)\n",
    "        salvar_dados_api(dados, indicador['NOME'])\n",
    "    except Exception as e:\n",
    "        logger.error(f\"Erro ao processar o indicador {indicador['NOME']}: {str(e)}\")"
   ]
  },
  {
   "cell_type": "code",
   "execution_count": null,
   "id": "35226720",
   "metadata": {},
   "outputs": [],
   "source": [
    "\n",
    "Cotaçao cambio\n",
    "response = requests.get(\"https://api.bcb.gov.br/dados/serie/bcdata.sgs.21619/dados?formato=json&dataInicial=29/06/2015\")\n",
    "response.json()"
   ]
  },
  {
   "cell_type": "code",
   "execution_count": null,
   "id": "e5f183d2",
   "metadata": {},
   "outputs": [],
   "source": [
    "url = \"https://api.bcb.gov.br/dados/serie/bcdata.sgs.432/dados?formato=json&dataInicial=01/07/2015&dataFinal=01/07/2025\"\n",
    "\n",
    "response = requests.get(url)\n",
    "response.raise_for_status()  \n",
    "dados_cambio = response.json()"
   ]
  },
  {
   "cell_type": "code",
   "execution_count": null,
   "id": "c45fe455",
   "metadata": {},
   "outputs": [],
   "source": [
    "dados_cambio"
   ]
  },
  {
   "cell_type": "code",
   "execution_count": null,
   "id": "80e0fc74",
   "metadata": {},
   "outputs": [],
   "source": []
  }
 ],
 "metadata": {
  "kernelspec": {
   "display_name": "Python 3",
   "language": "python",
   "name": "python3"
  },
  "language_info": {
   "codemirror_mode": {
    "name": "ipython",
    "version": 3
   },
   "file_extension": ".py",
   "mimetype": "text/x-python",
   "name": "python",
   "nbconvert_exporter": "python",
   "pygments_lexer": "ipython3",
   "version": "3.12.6"
  }
 },
 "nbformat": 4,
 "nbformat_minor": 5
}
